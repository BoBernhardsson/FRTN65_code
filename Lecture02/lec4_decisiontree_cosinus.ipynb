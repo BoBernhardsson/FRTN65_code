{
  "nbformat": 4,
  "nbformat_minor": 0,
  "metadata": {
    "@webio": {
      "lastCommId": null,
      "lastKernelId": null
    },
    "kernelspec": {
      "display_name": "Python 3",
      "language": "python",
      "name": "python3"
    },
    "language_info": {
      "codemirror_mode": {
        "name": "ipython",
        "version": 3
      },
      "file_extension": ".py",
      "mimetype": "text/x-python",
      "name": "python",
      "nbconvert_exporter": "python",
      "pygments_lexer": "ipython3",
      "version": "3.7.8"
    },
    "colab": {
      "name": "lec4_decisiontree_cosinus.ipynb",
      "provenance": [],
      "collapsed_sections": []
    }
  },
  "cells": [
    {
      "cell_type": "markdown",
      "metadata": {
        "id": "0Qa_znR34PIJ"
      },
      "source": [
        "\n",
        "============================\n",
        "Decision Tree for Regression\n",
        "============================\n",
        "\n",
        "\n"
      ]
    },
    {
      "cell_type": "code",
      "metadata": {
        "id": "u2aVhqNg4PIJ"
      },
      "source": [
        "import numpy as np\n",
        "import matplotlib.pyplot as plt\n",
        "from sklearn.tree import DecisionTreeRegressor\n",
        "from google.colab import files\n",
        "\n",
        "def true_fun(X):\n",
        "    return np.cos(3.0 * np.pi * X)\n",
        "\n",
        "np.random.seed(20)\n",
        "n_samples = 100\n",
        "sig = 0.2; # noise level\n",
        "x = np.sort(np.random.rand(n_samples,1))\n",
        "y = true_fun(x) + sig * np.random.randn(n_samples,1)"
      ],
      "execution_count": null,
      "outputs": []
    },
    {
      "cell_type": "code",
      "metadata": {
        "id": "NHLoRRvO4PIQ",
        "colab": {
          "base_uri": "https://localhost:8080/",
          "height": 119
        },
        "outputId": "d6092987-9ed5-452e-ae93-16d94cc09afb"
      },
      "source": [
        "tree01 = DecisionTreeRegressor(max_depth=4)\n",
        "tree01.fit(x,y)"
      ],
      "execution_count": null,
      "outputs": [
        {
          "output_type": "execute_result",
          "data": {
            "text/plain": [
              "DecisionTreeRegressor(ccp_alpha=0.0, criterion='mse', max_depth=4,\n",
              "                      max_features=None, max_leaf_nodes=None,\n",
              "                      min_impurity_decrease=0.0, min_impurity_split=None,\n",
              "                      min_samples_leaf=1, min_samples_split=2,\n",
              "                      min_weight_fraction_leaf=0.0, presort='deprecated',\n",
              "                      random_state=None, splitter='best')"
            ]
          },
          "metadata": {
            "tags": []
          },
          "execution_count": 2
        }
      ]
    },
    {
      "cell_type": "code",
      "metadata": {
        "id": "kyrNDKdCBS-V",
        "colab": {
          "base_uri": "https://localhost:8080/",
          "height": 308
        },
        "outputId": "12e2f6bc-5675-41ad-b780-3701aa7946b0"
      },
      "source": [
        "axes=[0, 1, -1.5, 1.5]\n",
        "xnew = np.linspace(axes[0], axes[1], 500).reshape(-1, 1)\n",
        "y_pred = tree01.predict(xnew)\n",
        "plt.axis(axes)\n",
        "plt.xlabel(\"$x$\", fontsize=18)\n",
        "plt.plot(x,y,\"b.\")\n",
        "plt.plot(xnew, y_pred, \"r-\", linewidth=2, label=r\"$\\hat{y}$\")\n",
        "#plt.savefig(\"lec4_decisiontree_cosinus.pdf\")\n",
        "#files.download(\"lec4_decisiontree_cosinus.pdf\")\n"
      ],
      "execution_count": null,
      "outputs": [
        {
          "output_type": "execute_result",
          "data": {
            "text/plain": [
              "[<matplotlib.lines.Line2D at 0x7f3449d0f390>]"
            ]
          },
          "metadata": {
            "tags": []
          },
          "execution_count": 4
        },
        {
          "output_type": "display_data",
          "data": {
            "image/png": "[encoded data removed]",
            "text/plain": [
              "<Figure size 432x288 with 1 Axes>"
            ]
          },
          "metadata": {
            "tags": [],
            "needs_background": "light"
          }
        }
      ]
    },
    {
      "cell_type": "code",
      "metadata": {
        "id": "KMNNC0H5DF24",
        "colab": {
          "base_uri": "https://localhost:8080/",
          "height": 308
        },
        "outputId": "d291541c-559b-4fde-e921-eee8583ddf92"
      },
      "source": [
        "tree02 = DecisionTreeRegressor()\n",
        "tree02.fit(x,y)\n",
        "axes=[0, 1, -1.5, 1.5]\n",
        "xnew = np.linspace(axes[0], axes[1], 500).reshape(-1, 1)\n",
        "y_pred = tree02.predict(xnew)\n",
        "plt.axis(axes)\n",
        "plt.xlabel(\"$x$\", fontsize=18)\n",
        "plt.plot(x,y,\"b.\")\n",
        "plt.plot(xnew, y_pred, \"r-\", linewidth=2, label=r\"$\\hat{y}$\")\n",
        "#plt.savefig(\"lec4_decisiontree_cosinus2.pdf\")\n",
        "#files.download(\"lec4_decisiontree_cosinus2.pdf\")"
      ],
      "execution_count": null,
      "outputs": [
        {
          "output_type": "execute_result",
          "data": {
            "text/plain": [
              "[<matplotlib.lines.Line2D at 0x7f3449856f98>]"
            ]
          },
          "metadata": {
            "tags": []
          },
          "execution_count": 5
        },
        {
          "output_type": "display_data",
          "data": {
            "image/png": "[encoded data removed]",
            "text/plain": [
              "<Figure size 432x288 with 1 Axes>"
            ]
          },
          "metadata": {
            "tags": [],
            "needs_background": "light"
          }
        }
      ]
    },
    {
      "cell_type": "code",
      "metadata": {
        "id": "Q-mRnf6SFI0Z"
      },
      "source": [
        ""
      ],
      "execution_count": null,
      "outputs": []
    }
  ]
}