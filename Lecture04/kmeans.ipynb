{
  "nbformat": 4,
  "nbformat_minor": 0,
  "metadata": {
    "colab": {
      "name": "kmeans.ipynb",
      "provenance": [],
      "collapsed_sections": []
    },
    "kernelspec": {
      "name": "python3",
      "display_name": "Python 3"
    }
  },
  "cells": [
    {
      "cell_type": "markdown",
      "metadata": {
        "id": "rq5bOF9cp2PT"
      },
      "source": [
        "The code illustrates how Kmeans can be used as a preprocessing step to improve performance of a classifier of images of digits 0-9. \n",
        "There are 1797 images of size 8x8, each flattened to a vector of size 64\n"
      ]
    },
    {
      "cell_type": "markdown",
      "metadata": {
        "id": "nEkN2qIcpvV4"
      },
      "source": [
        ""
      ]
    },
    {
      "cell_type": "code",
      "metadata": {
        "id": "-5HcmuocV9T_"
      },
      "source": [
        "import numpy as np\n",
        "from sklearn.datasets import load_digits\n",
        "from sklearn.model_selection import train_test_split\n",
        "from sklearn.linear_model import LogisticRegression\n",
        "from sklearn.cluster import KMeans\n",
        "from sklearn.pipeline import Pipeline\n",
        "X_digits, y_digits = load_digits(return_X_y=True)"
      ],
      "execution_count": null,
      "outputs": []
    },
    {
      "cell_type": "markdown",
      "metadata": {
        "id": "dLvpkouOqq-L"
      },
      "source": [
        "The images are transformed into a 10-dimensional space, described by the distances to the cluster centers.\n",
        "Note that the original dimension is 64. "
      ]
    },
    {
      "cell_type": "code",
      "metadata": {
        "id": "Kr_hw0qvfdAg",
        "colab": {
          "base_uri": "https://localhost:8080/",
          "height": 451
        },
        "outputId": "fee47cd1-948d-46d7-8737-4195b6f1400e"
      },
      "source": [
        "improvement = np.array([])\n",
        "n_clusters = 10\n",
        "for random_state in range(0,12):   # since Kmeans performance is random, we average over some trials\n",
        "  X_train, X_test, y_train, y_test = train_test_split(X_digits, y_digits, random_state=random_state)\n",
        "  log_reg = LogisticRegression(multi_class=\"ovr\", solver=\"lbfgs\", max_iter=5000, random_state=random_state)\n",
        "  log_reg.fit(X_train, y_train)\n",
        "  before = log_reg.score(X_test, y_test)\n",
        "  pipeline = Pipeline([\n",
        "    (\"bobmeans\", KMeans(n_clusters=n_clusters, random_state=random_state)),\n",
        "    (\"boblogreg\", LogisticRegression(multi_class=\"ovr\", solver=\"lbfgs\", max_iter=5000, random_state=random_state)),])\n",
        "  pipeline.fit(X_train, y_train)\n",
        "  after = pipeline.score(X_test, y_test)  \n",
        "  print('test {} improved accuracy by {:.4f}'.format(random_state,after-before))\n",
        "  print('     accuracy is now {:.4f}'.format(after))\n",
        "  improvement = np.append(improvement,after-before)\n",
        "print('average improvement = {:.4f}'.format(np.mean(improvement)))\n",
        "  "
      ],
      "execution_count": null,
      "outputs": [
        {
          "output_type": "stream",
          "text": [
            "test 0 improved accuracy by -0.0533\n",
            "     accuracy is now 0.8978\n",
            "test 1 improved accuracy by -0.0444\n",
            "     accuracy is now 0.9289\n",
            "test 2 improved accuracy by -0.0511\n",
            "     accuracy is now 0.8956\n",
            "test 3 improved accuracy by 0.0044\n",
            "     accuracy is now 0.9356\n",
            "test 4 improved accuracy by -0.0467\n",
            "     accuracy is now 0.9178\n",
            "test 5 improved accuracy by -0.0422\n",
            "     accuracy is now 0.9222\n",
            "test 6 improved accuracy by -0.0378\n",
            "     accuracy is now 0.9156\n",
            "test 7 improved accuracy by -0.0044\n",
            "     accuracy is now 0.9400\n",
            "test 8 improved accuracy by -0.0244\n",
            "     accuracy is now 0.9378\n",
            "test 9 improved accuracy by -0.0378\n",
            "     accuracy is now 0.9178\n",
            "test 10 improved accuracy by -0.0222\n",
            "     accuracy is now 0.9333\n",
            "test 11 improved accuracy by -0.0200\n",
            "     accuracy is now 0.9400\n",
            "average improvement = -0.0317\n"
          ],
          "name": "stdout"
        }
      ]
    },
    {
      "cell_type": "code",
      "metadata": {
        "id": "g9Hojns_qW1H"
      },
      "source": [
        ""
      ],
      "execution_count": null,
      "outputs": []
    }
  ]
}