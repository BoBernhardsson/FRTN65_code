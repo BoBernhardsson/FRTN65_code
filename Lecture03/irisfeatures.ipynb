{
  "nbformat": 4,
  "nbformat_minor": 0,
  "metadata": {
    "colab": {
      "provenance": []
    },
    "kernelspec": {
      "name": "python3",
      "display_name": "Python 3"
    }
  },
  "cells": [
    {
      "cell_type": "code",
      "metadata": {
        "id": "wpFA3IUHGRbG",
        "colab": {
          "base_uri": "https://localhost:8080/"
        },
        "outputId": "618e19ec-f424-4808-bf00-f4b58dbd63f7"
      },
      "source": [
        "from sklearn.datasets import load_iris\n",
        "from sklearn.ensemble import RandomForestClassifier\n",
        "iris = load_iris()\n",
        "rf = RandomForestClassifier(n_estimators=1000)\n",
        "rf.fit(iris[\"data\"],iris[\"target\"])\n",
        "for feature, importance in zip(iris[\"feature_names\"],rf.feature_importances_):\n",
        "  print(feature,'{:5.4f}'.format(importance))"
      ],
      "execution_count": null,
      "outputs": [
        {
          "output_type": "stream",
          "name": "stdout",
          "text": [
            "sepal length (cm) 0.0965\n",
            "sepal width (cm) 0.0230\n",
            "petal length (cm) 0.4338\n",
            "petal width (cm) 0.4467\n"
          ]
        }
      ]
    }
  ]
}